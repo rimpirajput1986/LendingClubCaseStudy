{
 "cells": [
  {
   "cell_type": "code",
   "execution_count": 1,
   "metadata": {},
   "outputs": [],
   "source": [
    "import numpy as np\n",
    "import pandas as pd\n",
    "import matplotlib.pyplot as plt\n",
    "import seaborn as sns\n",
    "from datetime import datetime\n",
    "from scipy.stats import norm"
   ]
  },
  {
   "cell_type": "markdown",
   "metadata": {},
   "source": [
    "__Importing loans data__"
   ]
  },
  {
   "cell_type": "code",
   "execution_count": 2,
   "metadata": {},
   "outputs": [],
   "source": [
    "loan = pd.read_csv(\"./loan.csv\", low_memory=False)"
   ]
  },
  {
   "cell_type": "code",
   "execution_count": 3,
   "metadata": {
    "scrolled": true
   },
   "outputs": [
    {
     "data": {
      "text/plain": [
       "Index(['id', 'member_id', 'loan_amnt', 'funded_amnt', 'funded_amnt_inv',\n",
       "       'term', 'int_rate', 'installment', 'grade', 'sub_grade',\n",
       "       ...\n",
       "       'num_tl_90g_dpd_24m', 'num_tl_op_past_12m', 'pct_tl_nvr_dlq',\n",
       "       'percent_bc_gt_75', 'pub_rec_bankruptcies', 'tax_liens',\n",
       "       'tot_hi_cred_lim', 'total_bal_ex_mort', 'total_bc_limit',\n",
       "       'total_il_high_credit_limit'],\n",
       "      dtype='object', length=111)"
      ]
     },
     "execution_count": 3,
     "metadata": {},
     "output_type": "execute_result"
    }
   ],
   "source": [
    "loan.columns"
   ]
  },
  {
   "cell_type": "code",
   "execution_count": 4,
   "metadata": {},
   "outputs": [
    {
     "data": {
      "text/html": [
       "<div>\n",
       "<style scoped>\n",
       "    .dataframe tbody tr th:only-of-type {\n",
       "        vertical-align: middle;\n",
       "    }\n",
       "\n",
       "    .dataframe tbody tr th {\n",
       "        vertical-align: top;\n",
       "    }\n",
       "\n",
       "    .dataframe thead th {\n",
       "        text-align: right;\n",
       "    }\n",
       "</style>\n",
       "<table border=\"1\" class=\"dataframe\">\n",
       "  <thead>\n",
       "    <tr style=\"text-align: right;\">\n",
       "      <th></th>\n",
       "      <th>id</th>\n",
       "      <th>member_id</th>\n",
       "      <th>loan_amnt</th>\n",
       "      <th>funded_amnt</th>\n",
       "      <th>funded_amnt_inv</th>\n",
       "      <th>term</th>\n",
       "      <th>int_rate</th>\n",
       "      <th>installment</th>\n",
       "      <th>grade</th>\n",
       "      <th>sub_grade</th>\n",
       "      <th>...</th>\n",
       "      <th>num_tl_90g_dpd_24m</th>\n",
       "      <th>num_tl_op_past_12m</th>\n",
       "      <th>pct_tl_nvr_dlq</th>\n",
       "      <th>percent_bc_gt_75</th>\n",
       "      <th>pub_rec_bankruptcies</th>\n",
       "      <th>tax_liens</th>\n",
       "      <th>tot_hi_cred_lim</th>\n",
       "      <th>total_bal_ex_mort</th>\n",
       "      <th>total_bc_limit</th>\n",
       "      <th>total_il_high_credit_limit</th>\n",
       "    </tr>\n",
       "  </thead>\n",
       "  <tbody>\n",
       "    <tr>\n",
       "      <td>0</td>\n",
       "      <td>1077501</td>\n",
       "      <td>1296599</td>\n",
       "      <td>5000</td>\n",
       "      <td>5000</td>\n",
       "      <td>4975.0</td>\n",
       "      <td>36 months</td>\n",
       "      <td>10.65%</td>\n",
       "      <td>162.87</td>\n",
       "      <td>B</td>\n",
       "      <td>B2</td>\n",
       "      <td>...</td>\n",
       "      <td>NaN</td>\n",
       "      <td>NaN</td>\n",
       "      <td>NaN</td>\n",
       "      <td>NaN</td>\n",
       "      <td>0.0</td>\n",
       "      <td>0.0</td>\n",
       "      <td>NaN</td>\n",
       "      <td>NaN</td>\n",
       "      <td>NaN</td>\n",
       "      <td>NaN</td>\n",
       "    </tr>\n",
       "    <tr>\n",
       "      <td>1</td>\n",
       "      <td>1077430</td>\n",
       "      <td>1314167</td>\n",
       "      <td>2500</td>\n",
       "      <td>2500</td>\n",
       "      <td>2500.0</td>\n",
       "      <td>60 months</td>\n",
       "      <td>15.27%</td>\n",
       "      <td>59.83</td>\n",
       "      <td>C</td>\n",
       "      <td>C4</td>\n",
       "      <td>...</td>\n",
       "      <td>NaN</td>\n",
       "      <td>NaN</td>\n",
       "      <td>NaN</td>\n",
       "      <td>NaN</td>\n",
       "      <td>0.0</td>\n",
       "      <td>0.0</td>\n",
       "      <td>NaN</td>\n",
       "      <td>NaN</td>\n",
       "      <td>NaN</td>\n",
       "      <td>NaN</td>\n",
       "    </tr>\n",
       "    <tr>\n",
       "      <td>2</td>\n",
       "      <td>1077175</td>\n",
       "      <td>1313524</td>\n",
       "      <td>2400</td>\n",
       "      <td>2400</td>\n",
       "      <td>2400.0</td>\n",
       "      <td>36 months</td>\n",
       "      <td>15.96%</td>\n",
       "      <td>84.33</td>\n",
       "      <td>C</td>\n",
       "      <td>C5</td>\n",
       "      <td>...</td>\n",
       "      <td>NaN</td>\n",
       "      <td>NaN</td>\n",
       "      <td>NaN</td>\n",
       "      <td>NaN</td>\n",
       "      <td>0.0</td>\n",
       "      <td>0.0</td>\n",
       "      <td>NaN</td>\n",
       "      <td>NaN</td>\n",
       "      <td>NaN</td>\n",
       "      <td>NaN</td>\n",
       "    </tr>\n",
       "    <tr>\n",
       "      <td>3</td>\n",
       "      <td>1076863</td>\n",
       "      <td>1277178</td>\n",
       "      <td>10000</td>\n",
       "      <td>10000</td>\n",
       "      <td>10000.0</td>\n",
       "      <td>36 months</td>\n",
       "      <td>13.49%</td>\n",
       "      <td>339.31</td>\n",
       "      <td>C</td>\n",
       "      <td>C1</td>\n",
       "      <td>...</td>\n",
       "      <td>NaN</td>\n",
       "      <td>NaN</td>\n",
       "      <td>NaN</td>\n",
       "      <td>NaN</td>\n",
       "      <td>0.0</td>\n",
       "      <td>0.0</td>\n",
       "      <td>NaN</td>\n",
       "      <td>NaN</td>\n",
       "      <td>NaN</td>\n",
       "      <td>NaN</td>\n",
       "    </tr>\n",
       "    <tr>\n",
       "      <td>4</td>\n",
       "      <td>1075358</td>\n",
       "      <td>1311748</td>\n",
       "      <td>3000</td>\n",
       "      <td>3000</td>\n",
       "      <td>3000.0</td>\n",
       "      <td>60 months</td>\n",
       "      <td>12.69%</td>\n",
       "      <td>67.79</td>\n",
       "      <td>B</td>\n",
       "      <td>B5</td>\n",
       "      <td>...</td>\n",
       "      <td>NaN</td>\n",
       "      <td>NaN</td>\n",
       "      <td>NaN</td>\n",
       "      <td>NaN</td>\n",
       "      <td>0.0</td>\n",
       "      <td>0.0</td>\n",
       "      <td>NaN</td>\n",
       "      <td>NaN</td>\n",
       "      <td>NaN</td>\n",
       "      <td>NaN</td>\n",
       "    </tr>\n",
       "  </tbody>\n",
       "</table>\n",
       "<p>5 rows × 111 columns</p>\n",
       "</div>"
      ],
      "text/plain": [
       "        id  member_id  loan_amnt  funded_amnt  funded_amnt_inv        term  \\\n",
       "0  1077501    1296599       5000         5000           4975.0   36 months   \n",
       "1  1077430    1314167       2500         2500           2500.0   60 months   \n",
       "2  1077175    1313524       2400         2400           2400.0   36 months   \n",
       "3  1076863    1277178      10000        10000          10000.0   36 months   \n",
       "4  1075358    1311748       3000         3000           3000.0   60 months   \n",
       "\n",
       "  int_rate  installment grade sub_grade  ... num_tl_90g_dpd_24m  \\\n",
       "0   10.65%       162.87     B        B2  ...                NaN   \n",
       "1   15.27%        59.83     C        C4  ...                NaN   \n",
       "2   15.96%        84.33     C        C5  ...                NaN   \n",
       "3   13.49%       339.31     C        C1  ...                NaN   \n",
       "4   12.69%        67.79     B        B5  ...                NaN   \n",
       "\n",
       "  num_tl_op_past_12m pct_tl_nvr_dlq  percent_bc_gt_75 pub_rec_bankruptcies  \\\n",
       "0                NaN            NaN               NaN                  0.0   \n",
       "1                NaN            NaN               NaN                  0.0   \n",
       "2                NaN            NaN               NaN                  0.0   \n",
       "3                NaN            NaN               NaN                  0.0   \n",
       "4                NaN            NaN               NaN                  0.0   \n",
       "\n",
       "  tax_liens tot_hi_cred_lim total_bal_ex_mort total_bc_limit  \\\n",
       "0       0.0             NaN               NaN            NaN   \n",
       "1       0.0             NaN               NaN            NaN   \n",
       "2       0.0             NaN               NaN            NaN   \n",
       "3       0.0             NaN               NaN            NaN   \n",
       "4       0.0             NaN               NaN            NaN   \n",
       "\n",
       "  total_il_high_credit_limit  \n",
       "0                        NaN  \n",
       "1                        NaN  \n",
       "2                        NaN  \n",
       "3                        NaN  \n",
       "4                        NaN  \n",
       "\n",
       "[5 rows x 111 columns]"
      ]
     },
     "execution_count": 4,
     "metadata": {},
     "output_type": "execute_result"
    }
   ],
   "source": [
    "loan.head()"
   ]
  },
  {
   "cell_type": "markdown",
   "metadata": {},
   "source": [
    "### Data Cleaning:"
   ]
  },
  {
   "cell_type": "code",
   "execution_count": 5,
   "metadata": {},
   "outputs": [
    {
     "data": {
      "text/plain": [
       "array([' 36 months', ' 60 months'], dtype=object)"
      ]
     },
     "execution_count": 5,
     "metadata": {},
     "output_type": "execute_result"
    }
   ],
   "source": [
    "loan.term.unique()"
   ]
  },
  {
   "cell_type": "markdown",
   "metadata": {},
   "source": [
    "__The variable Term, represent number of payments on the loan. Values are in months and can be either 36 or 60, so taking out just the integer value__"
   ]
  },
  {
   "cell_type": "code",
   "execution_count": 6,
   "metadata": {},
   "outputs": [],
   "source": [
    "loan.term = loan.term.apply(lambda x: int(x.split(' ')[1]))"
   ]
  },
  {
   "cell_type": "code",
   "execution_count": 7,
   "metadata": {},
   "outputs": [
    {
     "data": {
      "text/plain": [
       "(39717, 111)"
      ]
     },
     "execution_count": 7,
     "metadata": {},
     "output_type": "execute_result"
    }
   ],
   "source": [
    "loan.shape"
   ]
  },
  {
   "cell_type": "code",
   "execution_count": 8,
   "metadata": {},
   "outputs": [
    {
     "data": {
      "text/plain": [
       "total_il_high_credit_limit    100.0\n",
       "mo_sin_old_rev_tl_op          100.0\n",
       "bc_util                       100.0\n",
       "bc_open_to_buy                100.0\n",
       "avg_cur_bal                   100.0\n",
       "                              ...  \n",
       "pub_rec                         0.0\n",
       "open_acc                        0.0\n",
       "inq_last_6mths                  0.0\n",
       "earliest_cr_line                0.0\n",
       "id                              0.0\n",
       "Length: 111, dtype: float64"
      ]
     },
     "execution_count": 8,
     "metadata": {},
     "output_type": "execute_result"
    }
   ],
   "source": [
    "round((100*loan.isnull().sum() / len(loan)).sort_values(ascending = False), 2)"
   ]
  },
  {
   "cell_type": "markdown",
   "metadata": {},
   "source": [
    "#### Remove the columns that have no data at all"
   ]
  },
  {
   "cell_type": "code",
   "execution_count": 9,
   "metadata": {},
   "outputs": [],
   "source": [
    "loan.dropna(how='all',axis = 1 , inplace = True)"
   ]
  },
  {
   "cell_type": "code",
   "execution_count": 10,
   "metadata": {},
   "outputs": [
    {
     "data": {
      "text/plain": [
       "(39717, 57)"
      ]
     },
     "execution_count": 10,
     "metadata": {},
     "output_type": "execute_result"
    }
   ],
   "source": [
    "loan.shape"
   ]
  },
  {
   "cell_type": "markdown",
   "metadata": {},
   "source": [
    "#### Percentage of missing values"
   ]
  },
  {
   "cell_type": "code",
   "execution_count": 11,
   "metadata": {
    "scrolled": false
   },
   "outputs": [
    {
     "data": {
      "text/plain": [
       "next_pymnt_d                  97.13\n",
       "mths_since_last_record        92.99\n",
       "mths_since_last_delinq        64.66\n",
       "desc                          32.58\n",
       "emp_title                      6.19\n",
       "emp_length                     2.71\n",
       "pub_rec_bankruptcies           1.75\n",
       "last_pymnt_d                   0.18\n",
       "chargeoff_within_12_mths       0.14\n",
       "collections_12_mths_ex_med     0.14\n",
       "revol_util                     0.13\n",
       "tax_liens                      0.10\n",
       "title                          0.03\n",
       "last_credit_pull_d             0.01\n",
       "collection_recovery_fee        0.00\n",
       "acc_now_delinq                 0.00\n",
       "application_type               0.00\n",
       "url                            0.00\n",
       "pymnt_plan                     0.00\n",
       "loan_status                    0.00\n",
       "issue_d                        0.00\n",
       "verification_status            0.00\n",
       "annual_inc                     0.00\n",
       "home_ownership                 0.00\n",
       "delinq_amnt                    0.00\n",
       "sub_grade                      0.00\n",
       "grade                          0.00\n",
       "installment                    0.00\n",
       "int_rate                       0.00\n",
       "term                           0.00\n",
       "funded_amnt_inv                0.00\n",
       "funded_amnt                    0.00\n",
       "loan_amnt                      0.00\n",
       "member_id                      0.00\n",
       "purpose                        0.00\n",
       "zip_code                       0.00\n",
       "recoveries                     0.00\n",
       "total_acc                      0.00\n",
       "total_rec_late_fee             0.00\n",
       "total_rec_int                  0.00\n",
       "total_rec_prncp                0.00\n",
       "total_pymnt_inv                0.00\n",
       "total_pymnt                    0.00\n",
       "out_prncp_inv                  0.00\n",
       "out_prncp                      0.00\n",
       "initial_list_status            0.00\n",
       "last_pymnt_amnt                0.00\n",
       "addr_state                     0.00\n",
       "revol_bal                      0.00\n",
       "pub_rec                        0.00\n",
       "open_acc                       0.00\n",
       "policy_code                    0.00\n",
       "inq_last_6mths                 0.00\n",
       "earliest_cr_line               0.00\n",
       "delinq_2yrs                    0.00\n",
       "dti                            0.00\n",
       "id                             0.00\n",
       "dtype: float64"
      ]
     },
     "execution_count": 11,
     "metadata": {},
     "output_type": "execute_result"
    }
   ],
   "source": [
    "round((100*loan.isnull().sum() / len(loan)).sort_values(ascending = False), 2)"
   ]
  },
  {
   "cell_type": "markdown",
   "metadata": {},
   "source": [
    "#### Removing columns where more than 50% data is missing.\n",
    "#### Removing desc and title column because similar data is captured in purpose, which is more relevant to our analysis."
   ]
  },
  {
   "cell_type": "code",
   "execution_count": 12,
   "metadata": {},
   "outputs": [],
   "source": [
    "dropColList = ['next_pymnt_d', 'mths_since_last_record', 'mths_since_last_delinq', 'desc', 'title']\n",
    "loan = loan.drop(dropColList, axis=1)"
   ]
  },
  {
   "cell_type": "code",
   "execution_count": 13,
   "metadata": {},
   "outputs": [
    {
     "data": {
      "text/plain": [
       "emp_title                     6.19\n",
       "emp_length                    2.71\n",
       "pub_rec_bankruptcies          1.75\n",
       "last_pymnt_d                  0.18\n",
       "collections_12_mths_ex_med    0.14\n",
       "chargeoff_within_12_mths      0.14\n",
       "revol_util                    0.13\n",
       "tax_liens                     0.10\n",
       "last_credit_pull_d            0.01\n",
       "annual_inc                    0.00\n",
       "pymnt_plan                    0.00\n",
       "url                           0.00\n",
       "purpose                       0.00\n",
       "loan_status                   0.00\n",
       "issue_d                       0.00\n",
       "verification_status           0.00\n",
       "zip_code                      0.00\n",
       "sub_grade                     0.00\n",
       "home_ownership                0.00\n",
       "dti                           0.00\n",
       "grade                         0.00\n",
       "installment                   0.00\n",
       "int_rate                      0.00\n",
       "term                          0.00\n",
       "funded_amnt_inv               0.00\n",
       "funded_amnt                   0.00\n",
       "loan_amnt                     0.00\n",
       "member_id                     0.00\n",
       "addr_state                    0.00\n",
       "inq_last_6mths                0.00\n",
       "delinq_2yrs                   0.00\n",
       "earliest_cr_line              0.00\n",
       "delinq_amnt                   0.00\n",
       "acc_now_delinq                0.00\n",
       "application_type              0.00\n",
       "policy_code                   0.00\n",
       "last_pymnt_amnt               0.00\n",
       "collection_recovery_fee       0.00\n",
       "recoveries                    0.00\n",
       "total_rec_late_fee            0.00\n",
       "total_rec_int                 0.00\n",
       "total_rec_prncp               0.00\n",
       "total_pymnt_inv               0.00\n",
       "total_pymnt                   0.00\n",
       "out_prncp_inv                 0.00\n",
       "out_prncp                     0.00\n",
       "initial_list_status           0.00\n",
       "total_acc                     0.00\n",
       "revol_bal                     0.00\n",
       "pub_rec                       0.00\n",
       "open_acc                      0.00\n",
       "id                            0.00\n",
       "dtype: float64"
      ]
     },
     "execution_count": 13,
     "metadata": {},
     "output_type": "execute_result"
    }
   ],
   "source": [
    "round((100*loan.isnull().sum() / len(loan)).sort_values(ascending = False), 2)"
   ]
  },
  {
   "cell_type": "markdown",
   "metadata": {},
   "source": [
    "__Since the missing value percentage across all columns now is either zero or very low, we choose to ignore the missing values i.e. not impute them or drop them, because they wouldn't impact our analysis in any way.__"
   ]
  },
  {
   "cell_type": "code",
   "execution_count": 14,
   "metadata": {},
   "outputs": [
    {
     "data": {
      "text/plain": [
       "Fully Paid     32950\n",
       "Charged Off     5627\n",
       "Current         1140\n",
       "Name: loan_status, dtype: int64"
      ]
     },
     "execution_count": 14,
     "metadata": {},
     "output_type": "execute_result"
    }
   ],
   "source": [
    "loan.loan_status.value_counts()"
   ]
  },
  {
   "cell_type": "markdown",
   "metadata": {},
   "source": [
    "#### Because our aim is to identify patterns which indicate if a person is likely to default or not, Deleting rows with loan_status 'Current'"
   ]
  },
  {
   "cell_type": "code",
   "execution_count": 15,
   "metadata": {},
   "outputs": [
    {
     "data": {
      "text/plain": [
       "Fully Paid     32950\n",
       "Charged Off     5627\n",
       "Name: loan_status, dtype: int64"
      ]
     },
     "execution_count": 15,
     "metadata": {},
     "output_type": "execute_result"
    }
   ],
   "source": [
    "loan = loan[loan.loan_status != 'Current']\n",
    "loan.loan_status.value_counts()"
   ]
  },
  {
   "cell_type": "markdown",
   "metadata": {},
   "source": [
    "#### Dropping columns that have just one unique entry throughout"
   ]
  },
  {
   "cell_type": "code",
   "execution_count": 16,
   "metadata": {},
   "outputs": [],
   "source": [
    "loan = loan.loc[:,loan.nunique() != 1]"
   ]
  },
  {
   "cell_type": "code",
   "execution_count": 17,
   "metadata": {
    "scrolled": true
   },
   "outputs": [
    {
     "data": {
      "text/plain": [
       "(38577, 41)"
      ]
     },
     "execution_count": 17,
     "metadata": {},
     "output_type": "execute_result"
    }
   ],
   "source": [
    "loan.shape"
   ]
  },
  {
   "cell_type": "code",
   "execution_count": 18,
   "metadata": {},
   "outputs": [
    {
     "data": {
      "text/plain": [
       "Index(['id', 'member_id', 'loan_amnt', 'funded_amnt', 'funded_amnt_inv',\n",
       "       'term', 'int_rate', 'installment', 'grade', 'sub_grade', 'emp_title',\n",
       "       'emp_length', 'home_ownership', 'annual_inc', 'verification_status',\n",
       "       'issue_d', 'loan_status', 'url', 'purpose', 'zip_code', 'addr_state',\n",
       "       'dti', 'delinq_2yrs', 'earliest_cr_line', 'inq_last_6mths', 'open_acc',\n",
       "       'pub_rec', 'revol_bal', 'revol_util', 'total_acc', 'total_pymnt',\n",
       "       'total_pymnt_inv', 'total_rec_prncp', 'total_rec_int',\n",
       "       'total_rec_late_fee', 'recoveries', 'collection_recovery_fee',\n",
       "       'last_pymnt_d', 'last_pymnt_amnt', 'last_credit_pull_d',\n",
       "       'pub_rec_bankruptcies'],\n",
       "      dtype='object')"
      ]
     },
     "execution_count": 18,
     "metadata": {},
     "output_type": "execute_result"
    }
   ],
   "source": [
    "loan.columns"
   ]
  },
  {
   "cell_type": "code",
   "execution_count": 19,
   "metadata": {},
   "outputs": [
    {
     "data": {
      "text/plain": [
       "0    https://lendingclub.com/browse/loanDetail.acti...\n",
       "1    https://lendingclub.com/browse/loanDetail.acti...\n",
       "2    https://lendingclub.com/browse/loanDetail.acti...\n",
       "3    https://lendingclub.com/browse/loanDetail.acti...\n",
       "5    https://lendingclub.com/browse/loanDetail.acti...\n",
       "Name: url, dtype: object"
      ]
     },
     "execution_count": 19,
     "metadata": {},
     "output_type": "execute_result"
    }
   ],
   "source": [
    "loan['url'].head()"
   ]
  },
  {
   "cell_type": "markdown",
   "metadata": {},
   "source": [
    "__Taking a closer look at url we can see that url is just a combination of one static string and loan_id, the code (cell) below gives zero rows__\n",
    "<br>__So we can drop either id or url, we decided to drop the url column__"
   ]
  },
  {
   "cell_type": "code",
   "execution_count": 20,
   "metadata": {
    "scrolled": true
   },
   "outputs": [
    {
     "data": {
      "text/html": [
       "<div>\n",
       "<style scoped>\n",
       "    .dataframe tbody tr th:only-of-type {\n",
       "        vertical-align: middle;\n",
       "    }\n",
       "\n",
       "    .dataframe tbody tr th {\n",
       "        vertical-align: top;\n",
       "    }\n",
       "\n",
       "    .dataframe thead th {\n",
       "        text-align: right;\n",
       "    }\n",
       "</style>\n",
       "<table border=\"1\" class=\"dataframe\">\n",
       "  <thead>\n",
       "    <tr style=\"text-align: right;\">\n",
       "      <th></th>\n",
       "      <th>id</th>\n",
       "      <th>member_id</th>\n",
       "      <th>loan_amnt</th>\n",
       "      <th>funded_amnt</th>\n",
       "      <th>funded_amnt_inv</th>\n",
       "      <th>term</th>\n",
       "      <th>int_rate</th>\n",
       "      <th>installment</th>\n",
       "      <th>grade</th>\n",
       "      <th>sub_grade</th>\n",
       "      <th>...</th>\n",
       "      <th>total_pymnt_inv</th>\n",
       "      <th>total_rec_prncp</th>\n",
       "      <th>total_rec_int</th>\n",
       "      <th>total_rec_late_fee</th>\n",
       "      <th>recoveries</th>\n",
       "      <th>collection_recovery_fee</th>\n",
       "      <th>last_pymnt_d</th>\n",
       "      <th>last_pymnt_amnt</th>\n",
       "      <th>last_credit_pull_d</th>\n",
       "      <th>pub_rec_bankruptcies</th>\n",
       "    </tr>\n",
       "  </thead>\n",
       "  <tbody>\n",
       "  </tbody>\n",
       "</table>\n",
       "<p>0 rows × 41 columns</p>\n",
       "</div>"
      ],
      "text/plain": [
       "Empty DataFrame\n",
       "Columns: [id, member_id, loan_amnt, funded_amnt, funded_amnt_inv, term, int_rate, installment, grade, sub_grade, emp_title, emp_length, home_ownership, annual_inc, verification_status, issue_d, loan_status, url, purpose, zip_code, addr_state, dti, delinq_2yrs, earliest_cr_line, inq_last_6mths, open_acc, pub_rec, revol_bal, revol_util, total_acc, total_pymnt, total_pymnt_inv, total_rec_prncp, total_rec_int, total_rec_late_fee, recoveries, collection_recovery_fee, last_pymnt_d, last_pymnt_amnt, last_credit_pull_d, pub_rec_bankruptcies]\n",
       "Index: []\n",
       "\n",
       "[0 rows x 41 columns]"
      ]
     },
     "execution_count": 20,
     "metadata": {},
     "output_type": "execute_result"
    }
   ],
   "source": [
    "loan[loan.url != loan.id.apply(lambda x: 'https://lendingclub.com/browse/loanDetail.action?loan_id='+str(x))]"
   ]
  },
  {
   "cell_type": "code",
   "execution_count": 21,
   "metadata": {},
   "outputs": [],
   "source": [
    "loan.drop('url', axis=1, inplace = True)"
   ]
  },
  {
   "cell_type": "code",
   "execution_count": 22,
   "metadata": {},
   "outputs": [
    {
     "name": "stdout",
     "output_type": "stream",
     "text": [
      "0    10.65%\n",
      "1    15.27%\n",
      "2    15.96%\n",
      "3    13.49%\n",
      "5     7.90%\n",
      "Name: int_rate, dtype: object\n",
      "0    83.70%\n",
      "1     9.40%\n",
      "2    98.50%\n",
      "3       21%\n",
      "5    28.30%\n",
      "Name: revol_util, dtype: object\n"
     ]
    }
   ],
   "source": [
    "print(loan.int_rate.head())\n",
    "print(loan.revol_util.head())"
   ]
  },
  {
   "cell_type": "markdown",
   "metadata": {},
   "source": [
    "__Removing the percent sign at the end of int_rate, revol_util and convert dtype into float__"
   ]
  },
  {
   "cell_type": "code",
   "execution_count": 23,
   "metadata": {},
   "outputs": [],
   "source": [
    "loan.int_rate = loan.int_rate.str[:-1].astype(float)\n",
    "loan.revol_util = loan.revol_util.str[:-1].astype(float)"
   ]
  },
  {
   "cell_type": "code",
   "execution_count": 24,
   "metadata": {},
   "outputs": [
    {
     "data": {
      "text/plain": [
       "38577"
      ]
     },
     "execution_count": 24,
     "metadata": {},
     "output_type": "execute_result"
    }
   ],
   "source": [
    "len(loan.id.unique())"
   ]
  },
  {
   "cell_type": "code",
   "execution_count": 25,
   "metadata": {},
   "outputs": [
    {
     "data": {
      "text/plain": [
       "(38577, 40)"
      ]
     },
     "execution_count": 25,
     "metadata": {},
     "output_type": "execute_result"
    }
   ],
   "source": [
    "loan.shape"
   ]
  },
  {
   "cell_type": "code",
   "execution_count": 26,
   "metadata": {},
   "outputs": [
    {
     "data": {
      "text/plain": [
       "38577"
      ]
     },
     "execution_count": 26,
     "metadata": {},
     "output_type": "execute_result"
    }
   ],
   "source": [
    "len(loan.member_id.unique())"
   ]
  },
  {
   "cell_type": "markdown",
   "metadata": {},
   "source": [
    "__Dropping member_id because both id and member_id are unique and we don't need them both.__\n",
    "<br>\n",
    "__Dropping earliest_cr_line (\"The month the borrower's earliest reported credit line was opened\") because it doesn't seem relevant to our analysis__\n",
    "<br>\n",
    "__Dropping customer behaviour variables, because they don't contribute to loan_status decision making, which needs to be before giving the loan__\n",
    "<br>\n",
    "__Dropping emp_title because it's not relevant to our analysis__"
   ]
  },
  {
   "cell_type": "code",
   "execution_count": 27,
   "metadata": {},
   "outputs": [],
   "source": [
    "loan.drop(['member_id','earliest_cr_line'], axis=1, inplace = True)\n",
    "\n",
    "#'collection_recovery_fee', 'last_credit_pull_d', 'last_pymnt_amnt', 'last_pymnt_d', 'next_pymnt_d', 'recoveries', 'total_pymnt'\n",
    "custBehaviourList = ['collection_recovery_fee', 'last_credit_pull_d', 'last_pymnt_amnt', 'last_pymnt_d', 'recoveries', 'total_pymnt', 'zip_code', 'total_pymnt_inv', 'total_rec_prncp', 'total_rec_late_fee']\n",
    "loan.drop(custBehaviourList, axis=1, inplace = True)\n",
    "loan.drop('emp_title', axis=1, inplace = True)"
   ]
  },
  {
   "cell_type": "code",
   "execution_count": 28,
   "metadata": {},
   "outputs": [
    {
     "data": {
      "text/plain": [
       "27"
      ]
     },
     "execution_count": 28,
     "metadata": {},
     "output_type": "execute_result"
    }
   ],
   "source": [
    "len(loan.columns)"
   ]
  },
  {
   "cell_type": "code",
   "execution_count": 29,
   "metadata": {},
   "outputs": [],
   "source": [
    "#to convert loan_status into boolean variable.\n",
    "loan['loan_status'] = loan['loan_status'].apply(lambda x: True if x == 'Fully Paid' else False)"
   ]
  },
  {
   "cell_type": "code",
   "execution_count": 30,
   "metadata": {},
   "outputs": [
    {
     "data": {
      "text/plain": [
       "0     True\n",
       "1    False\n",
       "2     True\n",
       "3     True\n",
       "5     True\n",
       "Name: loan_status, dtype: bool"
      ]
     },
     "execution_count": 30,
     "metadata": {},
     "output_type": "execute_result"
    }
   ],
   "source": [
    "loan.loan_status.head()"
   ]
  },
  {
   "cell_type": "markdown",
   "metadata": {},
   "source": [
    "__Converting issue date from string to pandas date-time format__"
   ]
  },
  {
   "cell_type": "code",
   "execution_count": 31,
   "metadata": {},
   "outputs": [],
   "source": [
    "loan.issue_d = pd.to_datetime(loan.issue_d, format='%b-%y')"
   ]
  },
  {
   "cell_type": "markdown",
   "metadata": {},
   "source": [
    "__Looking for unique values for each columns to determine which variables are categorical__"
   ]
  },
  {
   "cell_type": "code",
   "execution_count": 32,
   "metadata": {},
   "outputs": [
    {
     "name": "stdout",
     "output_type": "stream",
     "text": [
      "id: \t\t38577\n",
      "loan_amnt: \t\t870\n",
      "funded_amnt: \t\t1019\n",
      "funded_amnt_inv: \t\t8050\n",
      "term: \t\t2\n",
      "int_rate: \t\t370\n",
      "installment: \t\t15022\n",
      "grade: \t\t7\n",
      "sub_grade: \t\t35\n",
      "emp_length: \t\t12\n",
      "home_ownership: \t\t5\n",
      "annual_inc: \t\t5215\n",
      "verification_status: \t\t3\n",
      "issue_d: \t\t55\n",
      "loan_status: \t\t2\n",
      "purpose: \t\t14\n",
      "addr_state: \t\t50\n",
      "dti: \t\t2853\n",
      "delinq_2yrs: \t\t11\n",
      "inq_last_6mths: \t\t9\n",
      "open_acc: \t\t40\n",
      "pub_rec: \t\t5\n",
      "revol_bal: \t\t21275\n",
      "revol_util: \t\t1089\n",
      "total_acc: \t\t82\n",
      "total_rec_int: \t\t34025\n",
      "pub_rec_bankruptcies: \t\t4\n"
     ]
    }
   ],
   "source": [
    "for col in loan:\n",
    "    print(col +\": \\t\\t\" +str(len(loan[col].unique())))"
   ]
  },
  {
   "cell_type": "markdown",
   "metadata": {},
   "source": [
    "### Exploring relationship between categorical variables and loan status.\n",
    "We will define a function that takes a categorical variable name and generates plots depicting univariate analysis as well as analysis with respect to the targeted variable (loan_status).\n"
   ]
  },
  {
   "cell_type": "code",
   "execution_count": 33,
   "metadata": {},
   "outputs": [],
   "source": [
    "def categorical_plots(name):\n",
    "    fig, ax = plt.subplots(1,3,figsize=(16, 7))\n",
    "    chart = sns.countplot(x=name, data=loan,color='cyan',alpha=0.8,ax=ax[0])\n",
    "    chart.set_xticklabels(chart.get_xticklabels(), rotation=90 ,horizontalalignment='right');\n",
    "    ax[0].set_title('Among all loans')\n",
    "    l = loan[loan.loan_status == False]\n",
    "    ct = pd.crosstab(l[name], l['loan_status'], normalize='columns')\n",
    "    ct.plot.bar(ax=ax[1], stacked=False, legend = False, color='magenta',alpha=0.3 , title = 'Among all Defaults')\n",
    "    ct = pd.crosstab(loan[name], loan['loan_status'], normalize='index')\n",
    "    ct.plot.bar(ax=ax[2], stacked=True, title = 'Among all loans')"
   ]
  },
  {
   "cell_type": "code",
   "execution_count": 34,
   "metadata": {},
   "outputs": [
    {
     "name": "stdout",
     "output_type": "stream",
     "text": [
      "['term', 'sub_grade', 'grade', 'emp_length', 'home_ownership', 'verification_status', 'purpose', 'addr_state', 'delinq_2yrs', 'inq_last_6mths', 'pub_rec', 'pub_rec_bankruptcies']\n",
      "Please enter one of the categorical variable names: \n",
      "purpose\n"
     ]
    },
    {
     "data": {
      "image/png": "[encoded data removed]",
      "text/plain": [
       "<Figure size 1152x504 with 3 Axes>"
      ]
     },
     "metadata": {
      "needs_background": "light"
     },
     "output_type": "display_data"
    }
   ],
   "source": [
    "categoricalCol = ['term','sub_grade', 'grade', 'emp_length', 'home_ownership', 'verification_status', 'purpose', 'addr_state', 'delinq_2yrs', 'inq_last_6mths', 'pub_rec', 'pub_rec_bankruptcies']\n",
    "print(categoricalCol)\n",
    "print('Please enter one of the categorical variable names: ')\n",
    "col = input()\n",
    "categorical_plots(col)"
   ]
  },
  {
   "cell_type": "markdown",
   "metadata": {},
   "source": [
    "### Observations from Univariate, Segmented Univariate and Bivariate analysis of categorical predictors of loan status\n",
    "  1. __Term__ :\n",
    "    - Observing the number of loans, We found that majority of loans are given for a term of 36 months.\n",
    "    - Observing defaulted loans, 36 month loan constitute 56% of the total defaulted loans.\n",
    "    - However, looking at loan_status , we find that higher proportion of 60 month loan are charged off compared to 36 month.\n",
    "    - It seems 60 month loans are more risky and therefore are rightfully issued sparingly.\n",
    "  2. __Grade__ :\n",
    "    - B is the most issued grade for loans, and also constitutes highest proportion of total defaults. People who are issued grade A loans are least likely to default, whereas people with grade G loan are most likely to default.\n",
    "  3. __Emp length__:\n",
    "    - Most of the loans are issued either to people with more than 10 years of experience or early in their job (upto 3 years of experience). We didn't find emp_length to be a driving variable for defaulting.\n",
    "  4. __Home_ownership__:\n",
    "    -  We find that it is not a driving variable for defaulting. Proportion of defaults are directly proportional to the loans issued in that segment.\n",
    "  5. __Verfication_status__:\n",
    "    -  We find that it is not a driving variable for defaulting. Proportion of defaults are directly proportional to the loans issued in that segment.\n",
    "  6. __Purpose__:\n",
    "    - Even though about 50% of default under debt consolidation, it is as a result of majority of loans being sanctioned for the purpose of debt consolidation. On the other hand, only a small portion of loans are sanctioned for small businesses, more than 20% of these are charged off as oppose to about 15% with debt consolidation. Therefore, loans for small businesses should be approved with caution.\n",
    "  7. __Pub_rec_bankruptcies__: \n",
    "    - Individuals without any record of bankruptcies are safest to issue loans.\n",
    "\n",
    "\n",
    "\n"
   ]
  },
  {
   "cell_type": "markdown",
   "metadata": {},
   "source": [
    "### Exploring relationship between continuous variables and loan status.\n",
    "We will define a function that takes a continuous variable name and generates plots depicting univariate analysis as well as analysis with respect to the targeted variable (loan_status)."
   ]
  },
  {
   "cell_type": "code",
   "execution_count": 35,
   "metadata": {},
   "outputs": [],
   "source": [
    "def continuous_plots(name):\n",
    "    f, axes = plt.subplots(1, 3, figsize=(16, 7))\n",
    "    sns.boxplot(y=name,  data=loan, ax=axes[0],color='green')  \n",
    "    \n",
    "    Q1 = loan[name].quantile(0.25)\n",
    "    Q3 = loan[name].quantile(0.75)\n",
    "    IQR = Q3 - Q1\n",
    "    loan_OT = loan[(loan[name] >= (Q1 - 1.5 * IQR))&(loan[name] <= (Q3 + 1.5 * IQR))]\n",
    "    sns.distplot(loan_OT[name], kde=True, color=\"r\", ax=axes[1]);\n",
    "    #sns.distplot(loan[name], kde=True, color=\"b\", ax=axes[1]);\n",
    "    \n",
    "    sns.boxplot(y=name, x=\"loan_status\", data=loan_OT, ax=axes[2])"
   ]
  },
  {
   "cell_type": "code",
   "execution_count": 38,
   "metadata": {
    "scrolled": false
   },
   "outputs": [
    {
     "name": "stdout",
     "output_type": "stream",
     "text": [
      "['funded_amnt_inv', 'revol_bal', 'dti', 'revol_util', 'installment', 'int_rate', 'annual_inc', 'total_acc', 'total_rec_int', 'loan_amnt', 'open_acc']\n",
      "Please enter one of the continuous variable names: \n",
      "open_acc\n"
     ]
    },
    {
     "data": {
      "image/png": "[encoded data removed]",
      "text/plain": [
       "<Figure size 1152x504 with 3 Axes>"
      ]
     },
     "metadata": {
      "needs_background": "light"
     },
     "output_type": "display_data"
    }
   ],
   "source": [
    "continuousVariables = ['funded_amnt_inv','revol_bal', 'dti', 'revol_util', 'installment', 'int_rate', 'annual_inc', 'total_acc', 'total_rec_int', 'loan_amnt', 'open_acc']\n",
    "print(continuousVariables)\n",
    "print('Please enter one of the continuous variable names: ')\n",
    "col = input()\n",
    "continuous_plots(col)"
   ]
  },
  {
   "cell_type": "markdown",
   "metadata": {},
   "source": [
    "### Observations from Univariate, Segmented Univariate and Bivariate analysis of continuous predictors of loan status\n",
    "\n",
    "  1. __Funded amount invested__:\n",
    "        - The total amount committed by investors for that loan at that point in time varies widely between 5000 dollars to more than 35,000 dollars. However,Boxplot sugggests many outliers (investment amounts of more than 30,000 dollars were usually outliers), so corrected for them but it is not a driving variable for defaults.\n",
    " \n",
    "  2. __revol_bal__:\n",
    "        - Revolving balance is highly skewed and has many outliers. \n",
    "        - Correcting for outliers, revolving balance is still skewed towards left (zero). \n",
    "        - However, there was no difference in amount of revolving balance when compared with respect to whether someone defaults or not.\n",
    "  3. __dti (Debt to Income Ratio)__: Interestingly higher debt to income ratio does not appear to be a significant risk factor for defaulting. On an average, those who default only had a slightly higher median dti than those who don't.\n",
    "    \n",
    "  4. __revol_util__:\n",
    "        - We find similar observation as revolving balance here.\n",
    "        - Revolving line utilization rate, or the amount of credit the borrower is using relative to all available revolving credit was moderately higher for individuals who default.\n",
    "        \n",
    "  5. __Installment__:\n",
    "        - Although installment amount has various outliers, the average installment amount based on whether someone defaults or not is not significant.\n",
    "           \n",
    "  6. __Interest rate__:\n",
    "        - Median of Interest rates is higher for defaulters than fully paid loans\n",
    "        - So it appears that people who are likely to default are getting loans at higher interest rates.\n",
    "        \n",
    "  7. __Annual Income__:\n",
    "        - Annual income has a lot of outliers towards the higher end. \n",
    "        - After correcting for outliers, we find that people who earn more are slightly less likely to default.\n",
    "  8. __Total account__:\n",
    "        - The total number of credit lines currently in the borrower's credit file has a lot of outliers, but, no siginificant difference in terms of defaults.\n",
    "  9. __Total_rec_int__:\n",
    "        - Interest received to date. Data has a lot of outliers but no significant observation w.r.t. defaults.\n",
    "  10. __Loan amount__:\n",
    "        - After correcting for outliers, we find that median loan amount of defaulters is slightly higher. So,high loan amounts should be approved with caution.\n",
    "        \n",
    "  11. __Open account__:\n",
    "        - A lot of outliers towards higher end.\n",
    "        - Higher the number of open credit lines in the borrower's credit file more likely the borrower is to fully pay their loan.\n",
    "        - This makes sense as more number of open credit lines reflect borrower's good credit history."
   ]
  },
  {
   "cell_type": "markdown",
   "metadata": {},
   "source": [
    "#### Data Driven metrics:\n",
    "__It would be interesting to see how loan amount to income ratio affects defaults:__\n",
    "  - Creating a new variable LoanAmnt_AnnualInc_ratio by dividing loan_amnt by annual_inc"
   ]
  },
  {
   "cell_type": "code",
   "execution_count": 39,
   "metadata": {},
   "outputs": [],
   "source": [
    "loan['LoanAmnt_AnnualInc_ratio'] = round(loan['loan_amnt']/loan['annual_inc'],2)"
   ]
  },
  {
   "cell_type": "code",
   "execution_count": 40,
   "metadata": {},
   "outputs": [
    {
     "data": {
      "text/plain": [
       "count    38577.000000\n",
       "mean         0.185836\n",
       "std          0.115290\n",
       "min          0.000000\n",
       "25%          0.100000\n",
       "50%          0.160000\n",
       "75%          0.250000\n",
       "max          0.830000\n",
       "Name: LoanAmnt_AnnualInc_ratio, dtype: float64"
      ]
     },
     "execution_count": 40,
     "metadata": {},
     "output_type": "execute_result"
    }
   ],
   "source": [
    "loan['LoanAmnt_AnnualInc_ratio'].describe()"
   ]
  },
  {
   "cell_type": "code",
   "execution_count": 41,
   "metadata": {
    "scrolled": false
   },
   "outputs": [
    {
     "data": {
      "image/png": "[encoded data removed]",
      "text/plain": [
       "<Figure size 1152x504 with 3 Axes>"
      ]
     },
     "metadata": {
      "needs_background": "light"
     },
     "output_type": "display_data"
    }
   ],
   "source": [
    "continuous_plots('LoanAmnt_AnnualInc_ratio')"
   ]
  },
  {
   "cell_type": "markdown",
   "metadata": {},
   "source": [
    "__Loan amount to income ratio__:\n",
    "- Borrowers with high loan ammount to income ratio are likely to default on their loans more."
   ]
  },
  {
   "cell_type": "code",
   "execution_count": 42,
   "metadata": {},
   "outputs": [],
   "source": [
    "loan['year'] = loan['issue_d'].dt.year\n",
    "loan['month'] = loan['issue_d'].dt.month"
   ]
  },
  {
   "cell_type": "code",
   "execution_count": 43,
   "metadata": {},
   "outputs": [
    {
     "data": {
      "text/plain": [
       "<bound method Series.unique of 0        12\n",
       "1        12\n",
       "2        12\n",
       "3        12\n",
       "5        12\n",
       "         ..\n",
       "39712     7\n",
       "39713     7\n",
       "39714     7\n",
       "39715     7\n",
       "39716     6\n",
       "Name: month, Length: 38577, dtype: int64>"
      ]
     },
     "execution_count": 43,
     "metadata": {},
     "output_type": "execute_result"
    }
   ],
   "source": [
    "loan['month'].unique"
   ]
  },
  {
   "cell_type": "code",
   "execution_count": 44,
   "metadata": {},
   "outputs": [
    {
     "data": {
      "text/plain": [
       "<matplotlib.axes._subplots.AxesSubplot at 0x1a1ebf5d50>"
      ]
     },
     "execution_count": 44,
     "metadata": {},
     "output_type": "execute_result"
    },
    {
     "data": {
      "image/png": "[encoded data removed]",
      "text/plain": [
       "<Figure size 1080x360 with 2 Axes>"
      ]
     },
     "metadata": {
      "needs_background": "light"
     },
     "output_type": "display_data"
    }
   ],
   "source": [
    "plt.figure(figsize=(15,5))\n",
    "plt.subplot(1, 2, 1)\n",
    "sns.countplot(loan['year'], order=sorted(loan.year.unique()))\n",
    "plt.subplot(1, 2, 2)\n",
    "sns.countplot(loan['month'], order=sorted(loan.month.unique()))"
   ]
  },
  {
   "cell_type": "code",
   "execution_count": 45,
   "metadata": {
    "scrolled": true
   },
   "outputs": [
    {
     "data": {
      "text/plain": [
       "{'LoanAmnt_AnnualInc_ratio',\n",
       " 'funded_amnt',\n",
       " 'id',\n",
       " 'issue_d',\n",
       " 'loan_status',\n",
       " 'month',\n",
       " 'year'}"
      ]
     },
     "execution_count": 45,
     "metadata": {},
     "output_type": "execute_result"
    }
   ],
   "source": [
    "(set(loan.columns)).difference(set(continuousVariables).union(set(categoricalCol)))"
   ]
  },
  {
   "cell_type": "code",
   "execution_count": null,
   "metadata": {},
   "outputs": [],
   "source": []
  }
 ],
 "metadata": {
  "kernelspec": {
   "display_name": "Python 3",
   "language": "python",
   "name": "python3"
  },
  "language_info": {
   "codemirror_mode": {
    "name": "ipython",
    "version": 3
   },
   "file_extension": ".py",
   "mimetype": "text/x-python",
   "name": "python",
   "nbconvert_exporter": "python",
   "pygments_lexer": "ipython3",
   "version": "3.7.4"
  }
 },
 "nbformat": 4,
 "nbformat_minor": 2
}
